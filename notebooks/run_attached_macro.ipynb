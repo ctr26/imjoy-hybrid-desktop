{
 "cells": [
  {
   "cell_type": "markdown",
   "metadata": {},
   "source": [
    "# Run macro file \n",
    "\n",
    "This notebook shows how load an ImageJ macrofile linked to an image and analyze the image the macro.\n",
    "This notebook assumes that a macro file has been linked to the dataset. If more than one macro is linked, the user can select the macro to apply.\n",
    "\n",
    "Fiji has been installed with few other plugins including the omero_ij plugin to allow to connect to an OMERO server."
   ]
  },
  {
   "cell_type": "markdown",
   "metadata": {},
   "source": [
    "## Description\n",
    "\n",
    "The following section shows\n",
    " * how to load a macro file linked to a dataset\n",
    " * how to analyze all the images in the dataset using the macro\n",
    " * how to save Region of Interests (ROIs) back to the OMERO server\n",
    " * how to save results as attachments\n",
    " * how to import an image\n"
   ]
  },
  {
   "cell_type": "markdown",
   "metadata": {},
   "source": [
    "## Setup: start the [desktop](../../desktop) if it is not already up\n",
    "The link should open in a different window. If you see an error message try refreshing the window."
   ]
  },
  {
   "cell_type": "markdown",
   "metadata": {},
   "source": [
    "## Setup: Add plugins to Classpath\n",
    "First we had Fiji and the plugins to the classpath."
   ]
  },
  {
   "cell_type": "code",
   "execution_count": 1,
   "metadata": {},
   "outputs": [
    {
     "data": {
      "application/vnd.jupyter.widget-view+json": {
       "model_id": "05731093-2ec8-47ac-aaea-35f61f43c848",
       "version_major": 2,
       "version_minor": 0
      },
      "method": "display_data"
     },
     "metadata": {},
     "output_type": "display_data"
    },
    {
     "data": {
      "application/vnd.jupyter.widget-view+json": {
       "model_id": "5f9d5043-8bbd-460f-a22a-a7b613666d53",
       "version_major": 2,
       "version_minor": 0
      },
      "method": "display_data"
     },
     "metadata": {},
     "output_type": "display_data"
    }
   ],
   "source": [
    "%classpath add jar /srv/conda/vnc/Fiji.app/jars/*\n",
    "%classpath add jar /srv/conda/vnc/Fiji.app/plugins/*"
   ]
  },
  {
   "cell_type": "markdown",
   "metadata": {},
   "source": [
    "## Enter credentials. Do not re-run this cell."
   ]
  },
  {
   "cell_type": "code",
   "execution_count": 2,
   "metadata": {},
   "outputs": [
    {
     "data": {
      "application/vnd.jupyter.widget-view+json": {
       "model_id": "7e5c8d03-5502-4d15-9520-baf7eaa9eb30",
       "version_major": 2,
       "version_minor": 0
      },
      "method": "display_data"
     },
     "metadata": {},
     "output_type": "display_data"
    }
   ],
   "source": [
    "g = new EasyForm(\"Enter credentials and continue to the next cell. Do not re-run this cell.\")\n",
    "g.addTextField(\"Server\").onInit({g['Server'] = \"wss://workshop.openmicroscopy.org/omero-ws\"})\n",
    "g.addTextField(\"UserName\")\n",
    "g.addPasswordField(\"Password\")\n",
    "g"
   ]
  },
  {
   "cell_type": "markdown",
   "metadata": {},
   "source": [
    "## Connect to OMERO"
   ]
  },
  {
   "cell_type": "code",
   "execution_count": 3,
   "metadata": {},
   "outputs": [
    {
     "name": "stdout",
     "output_type": "stream",
     "text": [
      "connecting...\n",
      "connected...\n"
     ]
    },
    {
     "data": {
      "text/plain": [
       "null"
      ]
     },
     "execution_count": 3,
     "metadata": {},
     "output_type": "execute_result"
    }
   ],
   "source": [
    "import omero.gateway.Gateway\n",
    "import omero.gateway.LoginCredentials\n",
    "import omero.log.SimpleLogger\n",
    "\n",
    "// Method to connect to OMERO\n",
    "def connect_to_omero() {\n",
    "    \"Connect to OMERO\"\n",
    "\n",
    "    credentials = new LoginCredentials()\n",
    "    credentials.getServer().setHostname(g['Server'])\n",
    "    credentials.getUser().setUsername(g['UserName'].trim())\n",
    "    credentials.getUser().setPassword(g['Password'].trim())\n",
    "    simpleLogger = new SimpleLogger()\n",
    "    gateway = new Gateway(simpleLogger)\n",
    "    gateway.connect(credentials)\n",
    "    return gateway\n",
    "\n",
    "}\n",
    "\n",
    "// Connect to OMERO\n",
    "println \"connecting...\"\n",
    "gateway = connect_to_omero()\n",
    "println \"connected...\"\n"
   ]
  },
  {
   "cell_type": "markdown",
   "metadata": {},
   "source": [
    "## Select the Image. Do not re-run this cell."
   ]
  },
  {
   "cell_type": "code",
   "execution_count": 4,
   "metadata": {
    "scrolled": false
   },
   "outputs": [
    {
     "data": {
      "application/vnd.jupyter.widget-view+json": {
       "model_id": "5365ac2f-efa3-4aa9-a9ce-bb38680d1464",
       "version_major": 2,
       "version_minor": 0
      },
      "method": "display_data"
     },
     "metadata": {},
     "output_type": "display_data"
    }
   ],
   "source": [
    "ga = new EasyForm(\"Select the Image to analyze. Do not re-run this cell.\")\n",
    "ga.addTextField(\"ImageID\")\n",
    "ga"
   ]
  },
  {
   "cell_type": "markdown",
   "metadata": {},
   "source": [
    "## Collect parameters "
   ]
  },
  {
   "cell_type": "code",
   "execution_count": 5,
   "metadata": {},
   "outputs": [
    {
     "data": {
      "text/plain": [
       "-1"
      ]
     },
     "execution_count": 5,
     "metadata": {},
     "output_type": "execute_result"
    }
   ],
   "source": [
    "//Connection information\n",
    "HOST = g['Server']\n",
    "USERNAME = g['UserName'].trim()\n",
    "PASSWORD = g['Password'].trim()\n",
    "\n",
    "//Image to analyze\n",
    "image_id = ga['ImageID'].toLong()\n",
    "group_id = \"-1\""
   ]
  },
  {
   "cell_type": "markdown",
   "metadata": {},
   "source": [
    "## Retrieve the macro(s) linked to the image.\n",
    "\n",
    "Macros have been linked to the dataset as File Annotations."
   ]
  },
  {
   "cell_type": "code",
   "execution_count": 11,
   "metadata": {
    "scrolled": true
   },
   "outputs": [
    {
     "data": {
      "text/plain": [
       "null"
      ]
     },
     "execution_count": 11,
     "metadata": {},
     "output_type": "execute_result"
    }
   ],
   "source": [
    "import java.util.ArrayList\n",
    "import java.util.HashMap\n",
    "\n",
    "import omero.gateway.SecurityContext\n",
    "import omero.gateway.facility.BrowseFacility\n",
    "import omero.gateway.facility.MetadataFacility\n",
    "import omero.gateway.model.FileAnnotationData\n",
    "import omero.gateway.model.ImageData\n",
    "import omero.model.OriginalFile\n",
    "\n",
    "// Retrieve the macros linked to the dataset\n",
    "user = gateway.getLoggedInUser()\n",
    "ctx = new SecurityContext(user.getGroupId())\n",
    "svc = gateway.getFacility(MetadataFacility)\n",
    "//Find the dataset\n",
    "browse = gateway.getFacility(BrowseFacility)\n",
    "object = browse.findIObject(ctx, \"omero.model.Image\", image_id)\n",
    "image = new ImageData(object);\n",
    "users = new ArrayList(1)\n",
    "//users.add(new Long(user.getId()))\n",
    "types = new ArrayList(1)\n",
    "types.add(FileAnnotationData.class)\n",
    "annotations = svc.getAnnotations(ctx, image, types, users)\n",
    "macros = new HashMap()\n",
    "macroNames = new HashMap()\n",
    "querySvc = gateway.getQueryService(ctx)\n",
    "annotations.each { fa ->\n",
    "    of = (OriginalFile) querySvc.get(\"omero.model.OriginalFile\", fa.getFileID());\n",
    "    name = of.getName().getValue()\n",
    "    // load the first annotation with ijm\n",
    "    if (name.endsWith(\".ijm\")) {\n",
    "        macros.put(fa.getFileID(), of)\n",
    "        macroNames.put(name, fa.getFileID())\n",
    "    }\n",
    "}\n",
    "\n",
    "if (macros.size) {\n",
    "    println \"No macros linked to the image\"\n",
    "    return\n",
    "}"
   ]
  },
  {
   "cell_type": "markdown",
   "metadata": {},
   "source": [
    "## Select the macro to use"
   ]
  },
  {
   "cell_type": "code",
   "execution_count": 12,
   "metadata": {},
   "outputs": [
    {
     "data": {
      "application/vnd.jupyter.widget-view+json": {
       "model_id": "f1628fc3-499d-4e90-ae91-980aeb0837b8",
       "version_major": 2,
       "version_minor": 0
      },
      "method": "display_data"
     },
     "metadata": {},
     "output_type": "display_data"
    }
   ],
   "source": [
    "gm = new EasyForm(\"Select the macro to use. Do not re-run this cell.\")\n",
    "gm.addComboBox(\"Name\", new ArrayList(macroNames.keySet()))\n",
    "gm"
   ]
  },
  {
   "cell_type": "markdown",
   "metadata": {},
   "source": [
    "## Load the selected macro"
   ]
  },
  {
   "cell_type": "code",
   "execution_count": 13,
   "metadata": {},
   "outputs": [
    {
     "name": "stdout",
     "output_type": "stream",
     "text": [
      "loading macro...\n"
     ]
    },
    {
     "data": {
      "text/plain": [
       "/tmp/Centrin_PCNT_Cep215_20110506_Fri-1545_0_SIR_PRJ.dv_results.csv2999698331468708025.ijm"
      ]
     },
     "execution_count": 13,
     "metadata": {},
     "output_type": "execute_result"
    }
   ],
   "source": [
    "import java.io.File\n",
    "import java.io.FileOutputStream\n",
    "\n",
    "import omero.gateway.SecurityContext\n",
    "\n",
    "//size of the chunk to load\n",
    "INC = 262144\n",
    "\n",
    "// Load the macro file linked to the dataset\n",
    "def loag_macro_file(gateway, macro_name) {\n",
    "    \n",
    "    \n",
    "    fileID = macroNames.get(macro_name)\n",
    "    of = macros.get(fileID)\n",
    "\n",
    "    user = gateway.getLoggedInUser()\n",
    "    ctx = new SecurityContext(user.getGroupId())\n",
    "    store = gateway.getRawFileService(ctx);\n",
    "    file = File.createTempFile(name, \".ijm\")\n",
    "    stream = new FileOutputStream(file)\n",
    "    store.setFileId(fileID);\n",
    "    offset = 0;\n",
    "    size = of.getSize().getValue();\n",
    "    try {\n",
    "        for (offset = 0; (offset+INC) < size;) {\n",
    "            stream.write(store.read(offset, INC));\n",
    "            offset += INC;\n",
    "        }\n",
    "    } finally {\n",
    "        stream.write(store.read(offset, (int) (size-offset)));\n",
    "        stream.close();\n",
    "    }\n",
    "    return file\n",
    "}\n",
    "\n",
    "println \"loading macro...\"\n",
    "//Name of the macro\n",
    "macro_name = gm['Name']\n",
    "macro_file = loag_macro_file(gateway, macro_name)"
   ]
  },
  {
   "cell_type": "markdown",
   "metadata": {},
   "source": [
    "## Open the image using Bio-Formats and run the macro "
   ]
  },
  {
   "cell_type": "code",
   "execution_count": 14,
   "metadata": {},
   "outputs": [
    {
     "name": "stdout",
     "output_type": "stream",
     "text": [
      "Opening image...\n",
      "Image opened\n",
      "Running macro fiji-macro-segment-1.ijm on image: 9539\n",
      " \tArea\tMean\tMin\tMax\n",
      "1\t0.154\t144.031\t22\t188\n",
      "2\t0.016\t175.300\t162\t186\n",
      "3\t0.050\t153.188\t95\t189\n",
      "4\t0.121\t126.701\t0\t189\n",
      "5\t0.036\t164.870\t128\t189\n",
      "6\t0.240\t121.431\t0\t189\n",
      "7\t0.176\t142.321\t15\t189\n",
      "8\t0.017\t180.364\t171\t189\n",
      "9\t0.031\t137.600\t57\t189\n",
      "10\t0.019\t174.250\t153\t189\n",
      "11\t0.019\t167.917\t144\t187\n",
      "12\t0.025\t168.500\t148\t188\n",
      "13\t0.017\t167.091\t142\t187\n",
      "14\t0.315\t143.085\t0\t189\n",
      "15\t0.198\t144.730\t49\t189\n",
      "16\t0.049\t169.645\t147\t187\n",
      "17\t0.022\t164.500\t140\t183\n",
      "Analysis completed\n"
     ]
    },
    {
     "data": {
      "text/plain": [
       "null"
      ]
     },
     "execution_count": 14,
     "metadata": {},
     "output_type": "execute_result"
    }
   ],
   "source": [
    "import ij.IJ\n",
    "import org.openmicroscopy.shoola.env.data.model.FileObject\n",
    "\n",
    "\n",
    "// Open the image using Bio-Formats\n",
    "def open_image_plus(host, username, password, group_id, image_id) {\n",
    "    \"Open the image using the Bio-Formats Importer\"\n",
    "\n",
    "    StringBuilder options = new StringBuilder()\n",
    "    options.append(\"location=[OMERO] open=[omero:server=\")\n",
    "    options.append(host)\n",
    "    options.append(\"\\nuser=\")\n",
    "    options.append(username)\n",
    "    options.append(\"\\nport=\")\n",
    "    options.append(443)\n",
    "    options.append(\"\\npass=\")\n",
    "    options.append(password)\n",
    "    options.append(\"\\ngroupID=\")\n",
    "    options.append(group_id)\n",
    "    options.append(\"\\niid=\")\n",
    "    options.append(image_id)\n",
    "    options.append(\"] \")\n",
    "    options.append(\"windowless=true view=Hyperstack \")\n",
    "    IJ.runPlugIn(\"loci.plugins.LociImporter\", options.toString())\n",
    "}\n",
    "\n",
    "println \"Opening image...\"\n",
    "imp = open_image_plus(HOST, USERNAME, PASSWORD, String.valueOf(group_id), String.valueOf(image_id))\n",
    "println \"Image opened\"\n",
    "imp = IJ.getImage()\n",
    "//Use to identify if it is a new image etc.\n",
    "file_object = new FileObject(imp)\n",
    "println \"Running macro \" + macro_name + \" on image: \"+image_id\n",
    "IJ.runMacroFile(macro_file.getAbsolutePath())\n",
    "println \"Analysis completed\""
   ]
  },
  {
   "cell_type": "markdown",
   "metadata": {},
   "source": [
    "## Select the output to save back after running the macro "
   ]
  },
  {
   "cell_type": "markdown",
   "metadata": {},
   "source": [
    "Depending on the macros run, new images, ROIs or results will be created. Select the output you wish to save back to OMERO."
   ]
  },
  {
   "cell_type": "code",
   "execution_count": 15,
   "metadata": {},
   "outputs": [
    {
     "data": {
      "application/vnd.jupyter.widget-view+json": {
       "model_id": "a8689ab8-2f1c-4c5b-b689-a9a11dd7ff22",
       "version_major": 2,
       "version_minor": 0
      },
      "method": "display_data"
     },
     "metadata": {},
     "output_type": "display_data"
    }
   ],
   "source": [
    "gr = new EasyForm(\"Select the output to save. Do not re-run this cell.\")\n",
    "options = [\"Image\", \"ROIs\", \"Results\"]\n",
    "gr.addCheckBox(\"Image\")\n",
    "gr.addCheckBox(\"ROIs\")\n",
    "gr.addCheckBox(\"Results\")\n",
    "gr"
   ]
  },
  {
   "cell_type": "markdown",
   "metadata": {},
   "source": [
    "## Collect the parameters"
   ]
  },
  {
   "cell_type": "code",
   "execution_count": 16,
   "metadata": {},
   "outputs": [
    {
     "data": {
      "text/plain": [
       "true"
      ]
     },
     "execution_count": 16,
     "metadata": {},
     "output_type": "execute_result"
    }
   ],
   "source": [
    "save_image = gr['Image']\n",
    "save_rois = gr['ROIs']\n",
    "save_results = gr['Results']"
   ]
  },
  {
   "cell_type": "markdown",
   "metadata": {},
   "source": [
    "## Save the ROIs back to the server\n",
    "\n",
    "Save the rois if any created during the analysis"
   ]
  },
  {
   "cell_type": "code",
   "execution_count": 18,
   "metadata": {},
   "outputs": [
    {
     "data": {
      "text/plain": [
       "null"
      ]
     },
     "execution_count": 18,
     "metadata": {},
     "output_type": "execute_result"
    }
   ],
   "source": [
    "import org.openmicroscopy.shoola.util.roi.io.ROIReader\n",
    "\n",
    "exp = gateway.getLoggedInUser()\n",
    "\n",
    "reader = new ROIReader()\n",
    "roi_list = reader.readImageJROIFromSources(image_id, imp)\n",
    "if (roi_list != null && roi_list.size() > 0 && save_rois) {\n",
    "    println \"saving ROIs\"\n",
    "    roi_facility = gateway.getFacility(ROIFacility)\n",
    "    result = roi_facility.saveROIs(ctx, image_id, exp.getId(), roi_list)\n",
    "}"
   ]
  },
  {
   "cell_type": "markdown",
   "metadata": {},
   "source": [
    "## Save the measurements associated to the ROI back to the server \n",
    "\n",
    "First we read the measurement using the reader defined about\n",
    "and then attach the CSV file to the image as a File Annotation."
   ]
  },
  {
   "cell_type": "code",
   "execution_count": 21,
   "metadata": {},
   "outputs": [
    {
     "name": "stdout",
     "output_type": "stream",
     "text": [
      "saving Results as CSV\n"
     ]
    },
    {
     "data": {
      "text/plain": [
       "true"
      ]
     },
     "execution_count": 21,
     "metadata": {},
     "output_type": "execute_result"
    }
   ],
   "source": [
    "import java.io.File\n",
    "import java.io.FileInputStream\n",
    "\n",
    "import java.nio.ByteBuffer\n",
    "import java.nio.file.Files\n",
    "\n",
    "import omero.gateway.facility.DataManagerFacility\n",
    "import omero.gateway.model.FileAnnotationData\n",
    "import omero.gateway.model.ImageData\n",
    "\n",
    "import omero.model.ChecksumAlgorithmI\n",
    "import omero.model.FileAnnotationI\n",
    "import omero.model.ImageI\n",
    "import omero.model.OriginalFileI\n",
    "import omero.model.enums.ChecksumAlgorithmSHA1160\n",
    "\n",
    "import static omero.rtypes.rlong\n",
    "import static omero.rtypes.rstring\n",
    "\n",
    "// Upload the CSV file to OMERO\n",
    "def upload_csv_to_omero(ctx, file, image_id) {\n",
    "    \"Upload the CSV file and attach it to the specified project\"\n",
    "    svc = gateway.getFacility(DataManagerFacility)\n",
    "\n",
    "    file_size = file.length()\n",
    "    original_file = new OriginalFileI()\n",
    "    original_file.setName(rstring(file.getName()))\n",
    "    original_file.setPath(rstring(file.getAbsolutePath()))\n",
    "    original_file.setSize(rlong(file_size))\n",
    "    checksum_algorithm = new ChecksumAlgorithmI()\n",
    "    checksum_algorithm.setValue(rstring(ChecksumAlgorithmSHA1160.value))\n",
    "    original_file.setHasher(checksum_algorithm)\n",
    "    original_file.setMimetype(rstring(\"text/csv\"))\n",
    "    original_file = svc.saveAndReturnObject(ctx, original_file)\n",
    "    store = gateway.getRawFileService(ctx)\n",
    "\n",
    "    // Open file and read stream\n",
    "    INC = 262144\n",
    "    pos = 0\n",
    "    buf = new byte[INC]\n",
    "    ByteBuffer bbuf = null\n",
    "    stream = null\n",
    "    try {\n",
    "        store.setFileId(original_file.getId().getValue())\n",
    "        stream = new FileInputStream(file)\n",
    "        while ((rlen = stream.read(buf)) > 0) {\n",
    "            store.write(buf, pos, rlen)\n",
    "            pos += rlen\n",
    "            bbuf = ByteBuffer.wrap(buf)\n",
    "            bbuf.limit(rlen)\n",
    "        }\n",
    "        original_file = store.save()\n",
    "    } finally {\n",
    "        if (stream != null) {\n",
    "            stream.close()\n",
    "        }\n",
    "        store.close()\n",
    "    }\n",
    "    // create the file annotation\n",
    "    namespace = \"training.demo\"\n",
    "    fa = new FileAnnotationI()\n",
    "    fa.setFile(original_file)\n",
    "    fa.setNs(rstring(namespace))\n",
    "\n",
    "    data_object = new ImageData(new ImageI(image_id, false)) \n",
    "    svc.attachAnnotation(ctx, new FileAnnotationData(fa), data_object)\n",
    "}\n",
    "\n",
    "\n",
    "tmp_dir = Files.createTempDirectory(\"Fiji_csv\")\n",
    "\n",
    "path = tmp_dir.resolve(image_id+\"_results.csv\")\n",
    "file_path = Files.createFile(path)\n",
    "file = new File(file_path.toString())\n",
    "//Save the results\n",
    "value = reader.readResults(file)\n",
    "if (value && save_results) { //some results to upload\n",
    "    println \"saving Results as CSV\"\n",
    "    upload_csv_to_omero(ctx, file, image_id)\n",
    "}\n",
    "file.delete()"
   ]
  },
  {
   "cell_type": "markdown",
   "metadata": {},
   "source": [
    "## Import the generated image\n",
    "\n",
    "If an image is created by the macro and the option is selected, the image will be imported in a new dataset named \"Analysis from Fiji\"."
   ]
  },
  {
   "cell_type": "code",
   "execution_count": 22,
   "metadata": {},
   "outputs": [
    {
     "name": "stdout",
     "output_type": "stream",
     "text": [
      "importing...\n"
     ]
    },
    {
     "name": "stderr",
     "output_type": "stream",
     "text": [
      "May 25, 2020 11:29:47 AM java.util.prefs.FileSystemPreferences$1 run\n",
      "INFO: Created user preferences directory.\n"
     ]
    },
    {
     "name": "stdout",
     "output_type": "stream",
     "text": [
      "Image:57242\n"
     ]
    },
    {
     "name": "stderr",
     "output_type": "stream",
     "text": [
      "Other imported objects:\n",
      "Fileset:39956\n"
     ]
    },
    {
     "name": "stdout",
     "output_type": "stream",
     "text": [
      "imported\n",
      "processing done\n"
     ]
    },
    {
     "data": {
      "text/plain": [
       "null"
      ]
     },
     "execution_count": 22,
     "metadata": {},
     "output_type": "execute_result"
    }
   ],
   "source": [
    "import java.lang.reflect.Array\n",
    "\n",
    "import omero.gateway.SecurityContext\n",
    "import omero.gateway.facility.BrowseFacility\n",
    "import omero.gateway.facility.DataManagerFacility\n",
    "import omero.gateway.model.DatasetData\n",
    "\n",
    "import ome.formats.importer.ImportConfig\n",
    "import ome.formats.importer.OMEROWrapper\n",
    "import ome.formats.importer.ImportLibrary\n",
    "import ome.formats.importer.ImportCandidates\n",
    "import ome.formats.importer.cli.ErrorHandler\n",
    "import ome.formats.importer.cli.LoggingImportMonitor\n",
    "\n",
    "import loci.formats.in.DefaultMetadataOptions\n",
    "import loci.formats.in.MetadataLevel\n",
    "\n",
    "\n",
    "//Upload the generated image\n",
    "def upload_image(paths, gateway, id) {\n",
    "    \"Upload an image to OMERO\"\n",
    "\n",
    "    user = gateway.getLoggedInUser()\n",
    "    sessionKey = gateway.getSessionId(user)\n",
    "\n",
    "    config = new ImportConfig()\n",
    "    config.debug.set('false')\n",
    "    config.hostname.set(HOST)\n",
    "    config.port.set(443)\n",
    "    config.sessionKey.set(sessionKey)\n",
    "    dataset = find_dataset(gateway, id)\n",
    "\n",
    "    store = config.createStore()\n",
    "    reader = new OMEROWrapper(config)\n",
    "\n",
    "    library = new ImportLibrary(store, reader)\n",
    "    error_handler = new ErrorHandler(config)\n",
    "\n",
    "    library.addObserver(new LoggingImportMonitor())\n",
    "    candidates = new ImportCandidates(reader, paths, error_handler)\n",
    "    containers = candidates.getContainers()\n",
    "    containers.each() { c ->\n",
    "        c.setTarget(dataset)\n",
    "    }\n",
    "    reader.setMetadataOptions(new DefaultMetadataOptions(MetadataLevel.ALL))\n",
    "    return library.importCandidates(config, candidates)\n",
    "}\n",
    "\n",
    "// Find the dataset matching the specified ID\n",
    "def find_dataset(gateway, dataset_id) {\n",
    "    \"Load the Dataset\"\n",
    "    browse = gateway.getFacility(BrowseFacility)\n",
    "    user = gateway.getLoggedInUser()\n",
    "    ctx = new SecurityContext(user.getGroupId())\n",
    "    return browse.findIObject(ctx, \"omero.model.Dataset\", dataset_id)\n",
    "}\n",
    "\n",
    "\n",
    "// Check if the macro created a new image\n",
    "if (file_object.isNewImage() && save_image) {\n",
    "    // Create a Dataset\n",
    "    d = new DatasetData()\n",
    "    d.setName(\"Analysis from Fiji\")\n",
    "    dm = gateway.getFacility(DataManagerFacility)\n",
    "    user = gateway.getLoggedInUser()\n",
    "    ctx = new SecurityContext(user.getGroupId())\n",
    "    d = dm.createDataset(ctx, d, null)\n",
    "    \n",
    "    file_to_import = file_object.getFileToImport()\n",
    "    println \"importing...\"\n",
    "    str2d = new String[1]\n",
    "    str2d[0] = file_to_import.getAbsolutePath()\n",
    "    success = upload_image(str2d, gateway, d.getId())\n",
    "    println \"imported\"\n",
    "}\n",
    "\n",
    "// delete the local copy of the temporary file and directory\n",
    "dir = new File(tmp_dir.toString())\n",
    "entries = dir.listFiles()\n",
    "for (i = 0; i < entries.length; i++) {\n",
    "    entries[i].delete()\n",
    "}\n",
    "dir.delete()\n",
    "\n",
    "// Close the connection\n",
    "gateway.disconnect()\n",
    "//Delete macrofile\n",
    "macro_file.delete()\n",
    "println \"processing done\""
   ]
  },
  {
   "cell_type": "markdown",
   "metadata": {},
   "source": [
    "## Close the connection and delete local files and directory  "
   ]
  },
  {
   "cell_type": "code",
   "execution_count": 24,
   "metadata": {},
   "outputs": [
    {
     "name": "stdout",
     "output_type": "stream",
     "text": [
      "processing done\n"
     ]
    },
    {
     "data": {
      "text/plain": [
       "null"
      ]
     },
     "execution_count": 24,
     "metadata": {},
     "output_type": "execute_result"
    }
   ],
   "source": [
    "// delete the local copy of the temporary file and directory\n",
    "dir.delete()\n",
    "\n",
    "// Close the connection\n",
    "gateway.disconnect()\n",
    "//Delete macrofile\n",
    "macro_file.delete()\n",
    "println \"processing done\""
   ]
  },
  {
   "cell_type": "code",
   "execution_count": null,
   "metadata": {},
   "outputs": [],
   "source": []
  }
 ],
 "metadata": {
  "kernelspec": {
   "display_name": "Groovy",
   "language": "groovy",
   "name": "groovy"
  },
  "language_info": {
   "codemirror_mode": "groovy",
   "file_extension": ".groovy",
   "mimetype": "",
   "name": "Groovy",
   "nbconverter_exporter": "",
   "version": "2.5.6"
  },
  "toc": {
   "base_numbering": 1,
   "nav_menu": {},
   "number_sections": false,
   "sideBar": false,
   "skip_h1_title": false,
   "title_cell": "Table of Contents",
   "title_sidebar": "Contents",
   "toc_cell": false,
   "toc_position": {},
   "toc_section_display": false,
   "toc_window_display": false
  }
 },
 "nbformat": 4,
 "nbformat_minor": 2
}
