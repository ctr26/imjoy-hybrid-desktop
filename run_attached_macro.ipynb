{
 "cells": [
  {
   "cell_type": "markdown",
   "metadata": {},
   "source": [
    "# Run macro file \n",
    "\n",
    "This notebook shows how load an ImageJ macrofile linked to a dataset and analyze all the images contained in that dataset with the macro.\n",
    "This notebook assumes that a macro file has been linked to the dataset. If more than one macro is linked, the first one found will be applied.\n",
    "\n",
    "Fiji has been installed with few other plugins. For more information, check the Dockerfile."
   ]
  },
  {
   "cell_type": "code",
   "execution_count": 1,
   "metadata": {},
   "outputs": [
    {
     "data": {
      "application/vnd.jupyter.widget-view+json": {
       "model_id": "721db184-3e8d-4e06-87f9-5347a76e62df",
       "version_major": 2,
       "version_minor": 0
      },
      "method": "display_data"
     },
     "metadata": {},
     "output_type": "display_data"
    },
    {
     "data": {
      "application/vnd.jupyter.widget-view+json": {
       "model_id": "517e3453-a2d4-48a2-a3d5-6752a270222f",
       "version_major": 2,
       "version_minor": 0
      },
      "method": "display_data"
     },
     "metadata": {},
     "output_type": "display_data"
    },
    {
     "data": {
      "application/vnd.jupyter.widget-view+json": {
       "model_id": "6e383dee-19f3-41dc-aca1-0073d7b221ce",
       "version_major": 2,
       "version_minor": 0
      },
      "method": "display_data"
     },
     "metadata": {},
     "output_type": "display_data"
    }
   ],
   "source": [
    "//Add dependencies to the classpath\n",
    "%classpath add jar /opt/java-apps/Fiji.app/jars/*\n",
    "%classpath add jar /opt/java-apps/Fiji.app/plugins/*\n",
    "%classpath add jar /opt/java-apps/Fiji.app/plugins/OMERO.imagej-5.5.6/*"
   ]
  },
  {
   "cell_type": "markdown",
   "metadata": {},
   "source": [
    "### Description\n",
    "\n",
    "The following section shows\n",
    " * how to load a macro file linked to a dataset\n",
    " * how to analyze all the images in the dataset using the macro\n",
    " "
   ]
  },
  {
   "cell_type": "code",
   "execution_count": 2,
   "metadata": {},
   "outputs": [
    {
     "data": {
      "application/vnd.jupyter.widget-view+json": {
       "model_id": "ca841e6e-fdc6-4ad4-ab29-ccaa0e1ff1c5",
       "version_major": 2,
       "version_minor": 0
      },
      "method": "display_data"
     },
     "metadata": {},
     "output_type": "display_data"
    }
   ],
   "source": [
    "g = new EasyForm(\"Enter credentials and continue to the next cell. Do not re-run this cell\")\n",
    "g.addTextField(\"Server\").onInit({g['Server'] = \"outreach.openmicroscopy.org\"})\n",
    "g.addTextField(\"UserName\")\n",
    "g.addPasswordField(\"Password\")\n",
    "g\n"
   ]
  },
  {
   "cell_type": "markdown",
   "metadata": {},
   "source": [
    "### Connect to OMERO"
   ]
  },
  {
   "cell_type": "code",
   "execution_count": 3,
   "metadata": {},
   "outputs": [
    {
     "name": "stdout",
     "output_type": "stream",
     "text": [
      "connecting...\n",
      "connected...\n"
     ]
    },
    {
     "data": {
      "text/plain": [
       "null"
      ]
     },
     "execution_count": 3,
     "metadata": {},
     "output_type": "execute_result"
    }
   ],
   "source": [
    "import omero.gateway.Gateway\n",
    "import omero.gateway.LoginCredentials\n",
    "import omero.log.SimpleLogger\n",
    "\n",
    "// Method to connect to OMERO\n",
    "def connect_to_omero() {\n",
    "    \"Connect to OMERO\"\n",
    "\n",
    "    credentials = new LoginCredentials()\n",
    "    credentials.getServer().setHostname(g['Server'])\n",
    "    credentials.getServer().setPort(4064)\n",
    "    credentials.getUser().setUsername(g['UserName'].trim())\n",
    "    credentials.getUser().setPassword(g['Password'].trim())\n",
    "    simpleLogger = new SimpleLogger()\n",
    "    gateway = new Gateway(simpleLogger)\n",
    "    gateway.connect(credentials)\n",
    "    return gateway\n",
    "\n",
    "}\n",
    "\n",
    "// Connect to OMERO\n",
    "println \"connecting...\"\n",
    "gateway = connect_to_omero()\n",
    "println \"connected...\"\n"
   ]
  },
  {
   "cell_type": "code",
   "execution_count": 6,
   "metadata": {},
   "outputs": [
    {
     "data": {
      "application/vnd.jupyter.widget-view+json": {
       "model_id": "beca1b98-f5bb-49f3-82db-0363a99e67b5",
       "version_major": 2,
       "version_minor": 0
      },
      "method": "display_data"
     },
     "metadata": {},
     "output_type": "display_data"
    }
   ],
   "source": [
    "ga = new EasyForm(\"Select the Dataset to analyze. Do not re-run this cell\")\n",
    "ga.addTextField(\"DatasetID\")\n",
    "ga"
   ]
  },
  {
   "cell_type": "markdown",
   "metadata": {},
   "source": [
    "### Run the macro"
   ]
  },
  {
   "cell_type": "code",
   "execution_count": 8,
   "metadata": {},
   "outputs": [
    {
     "name": "stdout",
     "output_type": "stream",
     "text": [
      "loading images...\n",
      "loading macro...\n",
      "analyzing images...\n",
      "Running macro on image: 92563\n",
      "Running macro on image: 89517\n",
      "processing done\n"
     ]
    },
    {
     "data": {
      "text/plain": [
       "null"
      ]
     },
     "execution_count": 8,
     "metadata": {},
     "output_type": "execute_result"
    }
   ],
   "source": [
    "import java.io.File\n",
    "import java.io.FileOutputStream\n",
    "import omero.gateway.Gateway\n",
    "import omero.gateway.SecurityContext\n",
    "import omero.gateway.facility.BrowseFacility\n",
    "import omero.gateway.facility.DataManagerFacility\n",
    "import omero.gateway.facility.MetadataFacility\n",
    "import omero.gateway.model.DatasetData\n",
    "import omero.gateway.model.FileAnnotationData\n",
    "import omero.model.OriginalFile\n",
    "\n",
    "import ij.IJ\n",
    "\n",
    "//Connection information\n",
    "HOST = g['Server']\n",
    "USERNAME = g['UserName']\n",
    "PASSWORD = g['Password']\n",
    "\n",
    "PORT = 4064\n",
    "//size of the chunk to load\n",
    "INC = 262144\n",
    "//Dataset to analyze Convert the String as long\n",
    "dataset_id = ga['DatasetID'].toLong()\n",
    "\n",
    "\n",
    "// Helper methods\n",
    "\n",
    "\n",
    "def get_images(gateway, dataset_id) {\n",
    "    \"List all image's ids contained in a Dataset\"\n",
    "    \n",
    "    user = gateway.getLoggedInUser()\n",
    "    ctx = new SecurityContext(user.getGroupId())\n",
    "    browse = gateway.getFacility(BrowseFacility)\n",
    "    ids = new ArrayList(1)\n",
    "    ids.add(new Long(dataset_id))\n",
    "    return browse.getImagesForDatasets(ctx, ids)\n",
    "}\n",
    "\n",
    "def open_image_plus(HOST, USERNAME, PASSWORD, PORT, group_id, image_id) {\n",
    "    \"Open the image using the Bio-Formats Importer\"\n",
    "\n",
    "    StringBuilder options = new StringBuilder()\n",
    "    options.append(\"location=[OMERO] open=[omero:server=\")\n",
    "    options.append(g['Server'])\n",
    "    options.append(\"\\nuser=\")\n",
    "    options.append(g['UserName'].trim())\n",
    "    options.append(\"\\nport=\")\n",
    "    options.append(4064)\n",
    "    options.append(\"\\npass=\")\n",
    "    options.append(g['Password'].trim())\n",
    "    options.append(\"\\ngroupID=\")\n",
    "    options.append(group_id)\n",
    "    options.append(\"\\niid=\")\n",
    "    options.append(image_id)\n",
    "    options.append(\"] \")\n",
    "    options.append(\"windowless=true view=Hyperstack \")\n",
    "    IJ.runPlugIn(\"loci.plugins.LociImporter\", options.toString())\n",
    "}\n",
    "\n",
    "// Load the macro file\n",
    "def get_macro_file(gateway, dataset_id) {\n",
    "    \n",
    "    user = gateway.getLoggedInUser()\n",
    "    ctx = new SecurityContext(user.getGroupId())\n",
    "    svc = gateway.getFacility(MetadataFacility)\n",
    "    //Find the dataset\n",
    "    browse = gateway.getFacility(BrowseFacility)\n",
    "    object = browse.findIObject(ctx, \"omero.model.Dataset\", dataset_id)\n",
    "    dataset = new DatasetData(object);\n",
    "    users = new ArrayList(1)\n",
    "    users.add(new Long(user.getId()))\n",
    "    types = new ArrayList(1)\n",
    "    types.add(FileAnnotationData.class)\n",
    "    annotations = svc.getAnnotations(ctx, dataset, types, users)\n",
    "    \n",
    "    store = gateway.getRawFileService(ctx);\n",
    "    querySvc = gateway.getQueryService(ctx)\n",
    "    index = 0\n",
    "    annotations.each { fa ->\n",
    "        of = (OriginalFile) querySvc.get(\"omero.model.OriginalFile\", fa.getFileID());\n",
    "        name = of.getName().getValue()\n",
    "        //load the first annotation with ijm\n",
    "        if (name.endsWith(\".ijm\") && index == 0) {\n",
    "            file = File.createTempFile(name, \".ijm\")\n",
    "            stream = new FileOutputStream(file)\n",
    "            store.setFileId(fa.getFileID());\n",
    "            offset = 0;\n",
    "            size = of.getSize().getValue();\n",
    "            try {\n",
    "                for (offset = 0; (offset+INC) < size;) {\n",
    "                    stream.write(store.read(offset, INC));\n",
    "                    offset += INC;\n",
    "                }\n",
    "            } finally {\n",
    "                stream.write(store.read(offset, (int) (size-offset)));\n",
    "                stream.close();\n",
    "            }\n",
    "            index++\n",
    "        }\n",
    "    }\n",
    "    store.close()\n",
    "    return file\n",
    "}\n",
    "\n",
    "// Main part of the script\n",
    "\n",
    "exp = gateway.getLoggedInUser()\n",
    "group_id = exp.getGroupId()\n",
    "\n",
    "// Load all the images contained in the dataset\n",
    "println \"loading images...\"\n",
    "images = get_images(gateway, dataset_id)\n",
    "\n",
    "// Load the file annotations linked to the dataset.\n",
    "println \"loading macro...\"\n",
    "macro_file = get_macro_file(gateway, dataset_id)\n",
    "\n",
    "//Apply the macro to all the images in the dataset\n",
    "println \"analyzing images...\"\n",
    "images.each { img ->\n",
    "    // if target_user ~= None:\n",
    "    // Switch context to target user and open omeroImage as ImagePlus object\n",
    "    img_id = img.getId()\n",
    "    println \"Running macro on image: \"+img_id\n",
    "    imp = open_image_plus(HOST, USERNAME, PASSWORD, PORT, group_id, String.valueOf(img_id))\n",
    "\n",
    "    imp = IJ.getImage()\n",
    "    \n",
    "    IJ.runMacroFile(macro_file.getAbsolutePath())\n",
    "    //TODO save output\n",
    "    imp.changes = false     /// Prevent \"Save Changes?\" dialog\n",
    "    imp.close()\n",
    "}\n",
    "// Close the connection\n",
    "gateway.disconnect()\n",
    "//Delete macrofile\n",
    "macro_file.delete()\n",
    "println \"processing done\""
   ]
  },
  {
   "cell_type": "code",
   "execution_count": null,
   "metadata": {},
   "outputs": [],
   "source": []
  }
 ],
 "metadata": {
  "kernelspec": {
   "display_name": "Groovy",
   "language": "groovy",
   "name": "groovy"
  },
  "language_info": {
   "codemirror_mode": "groovy",
   "file_extension": ".groovy",
   "mimetype": "",
   "name": "Groovy",
   "nbconverter_exporter": "",
   "version": "2.5.6"
  },
  "toc": {
   "base_numbering": 1,
   "nav_menu": {},
   "number_sections": false,
   "sideBar": false,
   "skip_h1_title": false,
   "title_cell": "Table of Contents",
   "title_sidebar": "Contents",
   "toc_cell": false,
   "toc_position": {},
   "toc_section_display": false,
   "toc_window_display": false
  }
 },
 "nbformat": 4,
 "nbformat_minor": 2
}
